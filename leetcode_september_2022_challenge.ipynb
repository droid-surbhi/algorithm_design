{
 "cells": [
  {
   "cell_type": "markdown",
   "metadata": {},
   "source": [
    "3rd September\n",
    "\n",
    "967. Numbers With Same Consecutive Differences\n",
    "Medium\n",
    "\n",
    "Return all non-negative integers of length n such that the absolute difference between every two consecutive digits is k.\n",
    "\n",
    "Note that every number in the answer must not have leading zeros. For example, 01 has one leading zero and is invalid.\n",
    "\n",
    "You may return the answer in any order.\n",
    "\n",
    " \n",
    "\n",
    "Example 1:\n",
    "\n",
    "Input: n = 3, k = 7\n",
    "Output: [181,292,707,818,929]\n",
    "Explanation: Note that 070 is not a valid number, because it has leading zeroes.\n",
    "\n",
    "Example 2:\n",
    "\n",
    "Input: n = 2, k = 1\n",
    "Output: [10,12,21,23,32,34,43,45,54,56,65,67,76,78,87,89,98]\n"
   ]
  },
  {
   "cell_type": "code",
   "execution_count": null,
   "metadata": {},
   "outputs": [],
   "source": [
    "from typing import List"
   ]
  },
  {
   "cell_type": "code",
   "execution_count": null,
   "metadata": {},
   "outputs": [],
   "source": [
    "class Solution:\n",
    "    def numsSameConsecDiff(self, n: int, k: int) -> List[int]:\n",
    "        pairs,combos = self.identifyPairs(k)\n",
    "        out = []\n",
    "        for pair in pairs:\n",
    "            # BFS for each node \n",
    "            num = [list(pair)]\n",
    "            while len(num[0]) < n and len(num[-1]) < n:\n",
    "                for i in range(len(num)):\n",
    "                    for next_i in combos[num[i][-1]]:\n",
    "                        comb2 = num[i][:]\n",
    "                        comb2.append(next_i)\n",
    "                        num.append(comb2)\n",
    "            num = [x for x in num if len(x) == n]\n",
    "            out.extend([sum([(10**(n-1-i))*combo[i] for i in range(n)]) for combo in num])\n",
    "            \n",
    "        return out\n",
    "                    \n",
    "                \n",
    "        \n",
    "    def identifyPairs(self, k: int):\n",
    "        \"\"\"identify pairs of digits whose difference is k and possible succesor for each digit\"\"\"\n",
    "        pairs = []\n",
    "        combos = {x:[] for x in range(0, 10)}\n",
    "        for i in range(1, 10):\n",
    "            for j in range(0, 10):\n",
    "                if abs(i-j) == k:\n",
    "                    pairs.append((i,j))\n",
    "                    if j not in combos[i]:\n",
    "                        combos[i].append(j)\n",
    "                    if i not in combos[j]:\n",
    "                        combos[j].append(i)\n",
    "        return pairs, combos\n",
    "                                   "
   ]
  }
 ],
 "metadata": {
  "kernelspec": {
   "display_name": "Python 3.8.3 64-bit",
   "language": "python",
   "name": "python3"
  },
  "language_info": {
   "name": "python",
   "version": "3.8.3"
  },
  "orig_nbformat": 4,
  "vscode": {
   "interpreter": {
    "hash": "9650cb4e16cdd4a8e8e2d128bf38d875813998db22a3c986335f89e0cb4d7bb2"
   }
  }
 },
 "nbformat": 4,
 "nbformat_minor": 2
}
