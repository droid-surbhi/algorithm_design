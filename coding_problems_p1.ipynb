{
 "cells": [
  {
   "cell_type": "markdown",
   "metadata": {},
   "source": [
    "Given an array of integers, return a new array such that each element at index i of the new array is the product of all the numbers in the original array except the one at i.\n",
    "\n",
    "For example, if our input was [1, 2, 3, 4, 5], the expected output would be [120, 60, 40, 30, 24]. If our input was [3, 2, 1], the expected output would be [2, 3, 6].\n",
    "\n",
    "Follow-up: what if you can't use division?"
   ]
  },
  {
   "cell_type": "code",
   "execution_count": 2,
   "metadata": {},
   "outputs": [
    {
     "name": "stdout",
     "output_type": "stream",
     "text": [
      "[120, 60, 40, 30, 24]\n",
      "[2, 3, 6]\n"
     ]
    }
   ],
   "source": [
    "#with division # o(n)\n",
    "def product_array(arr):\n",
    "    product = 1\n",
    "    for a in arr:\n",
    "        product*=a\n",
    "    out = []\n",
    "    for a in arr:\n",
    "        out.append(int(product/a))\n",
    "    return out\n",
    "\n",
    "print(product_array([1,2,3,4,5]))\n",
    "print(product_array([3,2,1]))"
   ]
  },
  {
   "cell_type": "code",
   "execution_count": 3,
   "metadata": {},
   "outputs": [
    {
     "name": "stdout",
     "output_type": "stream",
     "text": [
      "[120, 60, 40, 30, 24]\n",
      "[2, 3, 6]\n"
     ]
    }
   ],
   "source": [
    "#without_division o(n)\n",
    "def product_arraay2(arr):\n",
    "    arr2 = [1]*len(arr)\n",
    "    prod = 1\n",
    "    for i,a in enumerate(arr):\n",
    "        arr2[i] *= prod\n",
    "        prod *= a\n",
    "    prod = 1\n",
    "    for i in range(len(arr)-1, -1, -1):\n",
    "        arr2[i] *= prod\n",
    "        prod *= arr[i]\n",
    "    return arr2\n",
    "\n",
    "print(product_array([1,2,3,4,5]))\n",
    "print(product_array([3,2,1]))"
   ]
  },
  {
   "cell_type": "markdown",
   "metadata": {},
   "source": [
    "Given the root to a binary tree, implement serialize(root), which serializes the tree into a string, and deserialize(s), which deserializes the string back into the tree.\n",
    "\n",
    "For example, given the following Node class\n",
    "\n",
    "class Node:\n",
    "    def __init__(self, val, left=None, right=None):\n",
    "        self.val = val\n",
    "        self.left = left\n",
    "        self.right = right\n",
    "\n",
    "The following test should pass:\n",
    "\n",
    "node = Node('root', Node('left', Node('left.left')), Node('right'))\n",
    "assert deserialize(serialize(node)).left.left.val == 'left.left'\n"
   ]
  },
  {
   "cell_type": "code",
   "execution_count": 1,
   "metadata": {},
   "outputs": [],
   "source": [
    "import re\n",
    "\n",
    "class Node:\n",
    "    def __init__(self, val, left=None, right=None):\n",
    "        self.val = val\n",
    "        self.left = left\n",
    "        self.right = right"
   ]
  },
  {
   "cell_type": "code",
   "execution_count": 2,
   "metadata": {},
   "outputs": [
    {
     "data": {
      "text/plain": [
       "'\"root\" [\"left\" [\"left.left\"    ]  ] [\"right\"    ]'"
      ]
     },
     "execution_count": 2,
     "metadata": {},
     "output_type": "execute_result"
    }
   ],
   "source": [
    "def serialize(node):\n",
    "    parts = ['\"' + node.val.replace('\"', r'\\\"') + '\"']\n",
    "    \n",
    "    for x in [node.left, node.right]:\n",
    "        if l := x:\n",
    "            parts.append(f\"[{serialize(l)}]\")\n",
    "        else:\n",
    "            parts.append(\" \")\n",
    "    \n",
    "    return \" \".join(parts)\n",
    "\n",
    "serialize(Node('left', Node('left.left')))\n",
    "serialize(Node('root', Node('left', Node('left.left')), Node('right')))"
   ]
  },
  {
   "cell_type": "code",
   "execution_count": 3,
   "metadata": {},
   "outputs": [],
   "source": [
    "def closing_brace(x):\n",
    "    brace = 1\n",
    "    for i, y in enumerate(x):\n",
    "        if y == '[':\n",
    "            brace += 1\n",
    "        if y == ']':\n",
    "            brace -= 1\n",
    "        if brace == 0:\n",
    "            return i\n",
    "\n",
    "assert closing_brace(\"   ]  ]\") == 3"
   ]
  },
  {
   "cell_type": "code",
   "execution_count": null,
   "metadata": {},
   "outputs": [],
   "source": [
    "def deserialize(node_str):\n",
    "    # print(node_str)\n",
    "\n",
    "    this_val, rest = node_str.split(' ', maxsplit=1)\n",
    "    \n",
    "    left = right = None\n",
    "    pos = 1\n",
    "    if rest.startswith('['):\n",
    "        rest = rest[1:]\n",
    "        pos = closing_brace(rest) + 1\n",
    "        left = deserialize(rest[:pos])\n",
    "    \n",
    "    rest = rest[pos:].lstrip()\n",
    "    # print(rest)\n",
    "    if rest.startswith('['):\n",
    "        rest = rest[1:]\n",
    "        pos = closing_brace(rest)\n",
    "        right = deserialize(rest[:pos])\n",
    "    \n",
    "    return Node(this_val.strip('\"'), left=left, right=right)\n",
    "\n",
    "res = deserialize('\"root\" [\"left\" [\"left.left\"    ]  ] [\"right\"    ]')\n",
    "# res = deserialize('\"root\" [\"left\"  ] [\"right\"    ]')\n",
    "print('---')\n",
    "res.right\n"
   ]
  },
  {
   "cell_type": "code",
   "execution_count": 106,
   "metadata": {},
   "outputs": [
    {
     "data": {
      "text/plain": [
       "'right.left'"
      ]
     },
     "execution_count": 106,
     "metadata": {},
     "output_type": "execute_result"
    }
   ],
   "source": [
    "node = deserialize(serialize(Node('root', Node('left', Node('left.left')), Node('right', Node('right.left'), Node('right.right')))))\n",
    "node.right.left.val"
   ]
  },
  {
   "cell_type": "markdown",
   "metadata": {},
   "source": [
    "return a new sorted merged list from K sorted lists, each with size N.\n",
    "For example, if we had [[10, 15, 30], [12, 15, 20], [17, 20, 32]], the result should be [10, 12, 15, 15, 17, 20, 20, 30, 32]."
   ]
  },
  {
   "cell_type": "code",
   "execution_count": 11,
   "metadata": {
    "vscode": {
     "languageId": "markdown"
    }
   },
   "outputs": [
    {
     "name": "stdout",
     "output_type": "stream",
     "text": [
      "[10] [1, 0, 0]\n",
      "[10, 12] [1, 1, 0]\n",
      "[10, 12, 15] [2, 1, 0]\n",
      "[10, 12, 15, 15] [2, 2, 0]\n",
      "[10, 12, 15, 15, 17] [2, 2, 1]\n",
      "[10, 12, 15, 15, 17, 20] [2, 1]\n",
      "[10, 12, 15, 15, 17, 20, 20] [2, 2]\n",
      "[10, 12, 15, 15, 17, 20, 20, 30, 32] [2]\n",
      "[10, 12, 15, 15, 17, 20, 20, 30, 32]\n"
     ]
    }
   ],
   "source": [
    "def sort(elms):\n",
    "    min_val = elms[0]\n",
    "    min_ind = 0\n",
    "\n",
    "    for i in range(len(elms)):\n",
    "        if elms[i] < min_val:\n",
    "            min_ind = i\n",
    "            min_val = elms[min_ind]\n",
    "    return (min_ind, min_val)\n",
    "\n",
    "\n",
    "def sort_array(arr):\n",
    "    inds = [0]*len(arr)\n",
    "    out = []\n",
    "    flag = True\n",
    "    N = len(arr[0])\n",
    "    K = len(arr)\n",
    "    while flag:\n",
    "        elms = [arr[i][inds[i]] for i in range(len(arr))]\n",
    "        min_ind, min_val = sort(elms)\n",
    "        out.append(min_val)\n",
    "        new = inds[min_ind]+1\n",
    "        if new < N:\n",
    "            inds[min_ind] = new\n",
    "        else:\n",
    "            inds.pop(min_ind)\n",
    "            arr.pop(min_ind)\n",
    "        if len(inds)<=1:\n",
    "            flag = False\n",
    "            elms = arr[0][inds[0]:]\n",
    "            out.extend(elms)\n",
    "        print(out, inds)\n",
    "    return out\n",
    "\n",
    "print(sort_array([[10, 15, 30], [12, 15, 20], [17, 20, 32]]))"
   ]
  },
  {
   "cell_type": "code",
   "execution_count": null,
   "metadata": {},
   "outputs": [],
   "source": []
  }
 ],
 "metadata": {
  "kernelspec": {
   "display_name": "Python 3.8.3 64-bit",
   "language": "python",
   "name": "python3"
  },
  "language_info": {
   "codemirror_mode": {
    "name": "ipython",
    "version": 3
   },
   "file_extension": ".py",
   "mimetype": "text/x-python",
   "name": "python",
   "nbconvert_exporter": "python",
   "pygments_lexer": "ipython3",
   "version": "3.8.3"
  },
  "orig_nbformat": 4,
  "vscode": {
   "interpreter": {
    "hash": "9650cb4e16cdd4a8e8e2d128bf38d875813998db22a3c986335f89e0cb4d7bb2"
   }
  }
 },
 "nbformat": 4,
 "nbformat_minor": 2
}
