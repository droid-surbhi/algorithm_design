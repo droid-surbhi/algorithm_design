{
 "cells": [
  {
   "cell_type": "markdown",
   "metadata": {},
   "source": [
    "This problem was asked by Apple.\n",
    "\n",
    "Given two sorted arrays of positive integers, and an integer k, determine the k smallest pairs among the two arrays, where a pair is defined as having exactly one element from the first array and one element from the second array.\n",
    "\n",
    "For example, if the k = 3 and the two arrays are [1, 3, 6, 10] and [2, 5, 7, 9] then [[1, 2], [3, 2], [1, 5]] since those are the three smallest pairs."
   ]
  },
  {
   "attachments": {},
   "cell_type": "markdown",
   "metadata": {},
   "source": [
    "Solution:"
   ]
  },
  {
   "cell_type": "code",
   "execution_count": 51,
   "metadata": {},
   "outputs": [],
   "source": [
    "import heapq\n",
    "\n",
    "def small_sets(arr1, arr2, k):\n",
    "    result = []\n",
    "    heap = []\n",
    "    m, n = len(arr1), len(arr2)\n",
    "    visited = set()  # Set to track visited pairs\n",
    "    \n",
    "    # Initialize the heap with the first pair from arr1 and arr2\n",
    "    # The elements are stored as (sum, index1, index2) tuples\n",
    "    heapq.heappush(heap, (arr1[0] + arr2[0], 0, 0))\n",
    "    visited.add((0, 0))\n",
    "    \n",
    "    while len(result) < k and heap:\n",
    "        _, i, j = heapq.heappop(heap)  # Get the smallest sum and indices\n",
    "        \n",
    "        # Add the pair to the result list\n",
    "        result.append([arr1[i], arr2[j]])\n",
    "        \n",
    "        # Generate the next potential pairs by moving to the next indices\n",
    "        if i + 1 < m and (i + 1, j) not in visited:\n",
    "            heapq.heappush(heap, (arr1[i + 1] + arr2[j], i + 1, j))\n",
    "            visited.add((i + 1, j))\n",
    "        if j + 1 < n and (i, j + 1) not in visited:\n",
    "            heapq.heappush(heap, (arr1[i] + arr2[j + 1], i, j + 1))\n",
    "            visited.add((i, j + 1))\n",
    "    \n",
    "    return result\n"
   ]
  },
  {
   "cell_type": "markdown",
   "metadata": {},
   "source": []
  },
  {
   "cell_type": "code",
   "execution_count": 53,
   "metadata": {},
   "outputs": [
    {
     "data": {
      "text/plain": [
       "[[1, 2], [3, 2], [1, 5]]"
      ]
     },
     "execution_count": 53,
     "metadata": {},
     "output_type": "execute_result"
    }
   ],
   "source": [
    "small_sets([1,3,4,10], [2,5,7,9], 3)"
   ]
  },
  {
   "attachments": {},
   "cell_type": "markdown",
   "metadata": {},
   "source": [
    "The time complexity of this solution is O(k log k), where k is the desired number of smallest pairs. Here's the breakdown of the time complexity:\n",
    "\n",
    "    Initializing the heap and set: O(1)\n",
    "    While loop: Iterations will be at most k times.\n",
    "        Heap operations (pop, push): O(log k) each\n",
    "        Set operations (add, lookup): O(1) on average\n",
    "        Generating next potential pairs: O(1)\n",
    "        Adding a pair to the result list: O(1)\n",
    "    Total time complexity of the while loop: O(k log k)\n",
    "    Constructing and returning the result list: O(k)\n",
    "\n",
    "Therefore, the overall time complexity is dominated by the while loop, resulting in O(k log k).\n",
    "\n",
    "The space complexity is O(k) as we need to store the k smallest pairs in the result list. The additional space used by the min-heap and the set is also O(k)."
   ]
  }
 ],
 "metadata": {
  "kernelspec": {
   "display_name": "Python 3",
   "language": "python",
   "name": "python3"
  },
  "language_info": {
   "codemirror_mode": {
    "name": "ipython",
    "version": 3
   },
   "file_extension": ".py",
   "mimetype": "text/x-python",
   "name": "python",
   "nbconvert_exporter": "python",
   "pygments_lexer": "ipython3",
   "version": "3.11.2"
  },
  "orig_nbformat": 4
 },
 "nbformat": 4,
 "nbformat_minor": 2
}
