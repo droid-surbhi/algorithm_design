{
 "metadata": {
  "language_info": {
   "codemirror_mode": {
    "name": "ipython",
    "version": 3
   },
   "file_extension": ".py",
   "mimetype": "text/x-python",
   "name": "python",
   "nbconvert_exporter": "python",
   "pygments_lexer": "ipython3",
   "version": "3.8.10"
  },
  "orig_nbformat": 2,
  "kernelspec": {
   "name": "python3",
   "display_name": "Python 3.8.6 64-bit ('base': venv)"
  },
  "metadata": {
   "interpreter": {
    "hash": "c7a8daee49359dee59c5e239bd72bc926cbb1465e18dcc7a1581e36b7564027e"
   }
  },
  "interpreter": {
   "hash": "c7a8daee49359dee59c5e239bd72bc926cbb1465e18dcc7a1581e36b7564027e"
  }
 },
 "nbformat": 4,
 "nbformat_minor": 2,
 "cells": [
  {
   "source": [
    "# Algorithm design problems\n",
    "### Here you can find solution to several algorithm design problems, covering topics: recursion, sorting, searching, dynamic programmic etc. The source of these problems are:\n",
    "### 1. The Algorithm Design Manual, by Steven S. Skiena\n",
    "# \n",
    "## I keep on updating this notebook, so check back after sometime for new problems. "
   ],
   "cell_type": "markdown",
   "metadata": {}
  },
  {
   "source": [
    "## Movie scheduling problem. From source 1, chapter 1\n",
    "### Input: a set I of n intervals on the line\n",
    "### Output: largest set of mutually non-overlapping intervals which can be selected from I\n",
    "### Problem definition: A movie star has been presented offers to star in n different movie projects. Each offer comes specified with the fisrt and last day       of filming. To take any offer, The star cannot accept any two jobs whose intervals overlap. Each of these movies offer same amount of                          money independent of the interval period.\n",
    "### Goal: Make as much money as possible. => identify the largest possible set of jobs/movie offers such that no two of them conflict with each other. "
   ],
   "cell_type": "markdown",
   "metadata": {}
  },
  {
   "cell_type": "code",
   "execution_count": 20,
   "metadata": {},
   "outputs": [],
   "source": [
    "# instead of taking date in date format (day, month, year), representing each date with a number.\n",
    "mv_times = [(5,10), (1,2), (1,6), (3,4), (5,7), (9,10)]"
   ]
  },
  {
   "source": [
    "## optimal solution for movie scheduling problem\n",
    "### in recursion, select the movie which terminates first: the movie for which right-most value is leftmost in all intervals"
   ],
   "cell_type": "markdown",
   "metadata": {}
  },
  {
   "cell_type": "code",
   "execution_count": 22,
   "metadata": {},
   "outputs": [],
   "source": [
    "def possible(p1, p2):\n",
    "    \"\"\"\n",
    "    returns False if p1 and p2 are overlapping\n",
    "    \"\"\"\n",
    "    if p1[0] >= p2[0] and p1[0]<= p2[1]:\n",
    "        return False\n",
    "    if p1[1] >= p2[0] and p1[1] <= p2[1]:\n",
    "        return False\n",
    "    if p2[0] >= p1[0] and p2[0] <= p1[1]:\n",
    "        return False\n",
    "    if p2[1] >= p1[0] and p2[1] <= p1[1]:\n",
    "        return False\n",
    "    else:\n",
    "        return True"
   ]
  },
  {
   "cell_type": "code",
   "execution_count": 8,
   "metadata": {},
   "outputs": [
    {
     "output_type": "stream",
     "name": "stdout",
     "text": [
      "False\n"
     ]
    }
   ],
   "source": [
    "ans = possible((1,6), (1,2))\n",
    "print(ans)"
   ]
  },
  {
   "cell_type": "code",
   "execution_count": 18,
   "metadata": {},
   "outputs": [],
   "source": [
    "def optimal_movie_schd(movies):\n",
    "    def reduce_movies(movies, selected=[]):\n",
    "        current_sel = movies[0]\n",
    "        selected.append(current_sel)\n",
    "        movies = [x for x in movies if possible(x, current_sel)]\n",
    "        return movies, selected\n",
    "    \n",
    "    selected = []\n",
    "    movies = sorted(movies, key=lambda x: x[1])\n",
    "    while len(movies)>0:\n",
    "        movies, selected = reduce_movies(movies, selected=selected)\n",
    "    return selected    "
   ]
  },
  {
   "cell_type": "code",
   "execution_count": null,
   "metadata": {},
   "outputs": [],
   "source": []
  },
  {
   "cell_type": "code",
   "execution_count": 23,
   "metadata": {},
   "outputs": [
    {
     "output_type": "stream",
     "name": "stdout",
     "text": [
      "CPU times: user 29 µs, sys: 0 ns, total: 29 µs\nWall time: 34.3 µs\n"
     ]
    },
    {
     "output_type": "execute_result",
     "data": {
      "text/plain": [
       "[(1, 2), (3, 4), (5, 7), (9, 10)]"
      ]
     },
     "metadata": {},
     "execution_count": 23
    }
   ],
   "source": [
    "%%time\n",
    "optimal_movie_schd(mv_times)"
   ]
  },
  {
   "source": [
    "## Knapsack problem 1. From source 1, chapter 1:\n",
    "### Given a set of integers S={s1, s2, ..., sn}, and a target number T, find a subset of S which adds up exactly to T. For e.g.;\n",
    "### There exists a subset within S={1,2,5,9,10} that adds up to T=22 but not T=23\n",
    "#recursion\n",
    "\n",
    "## Solution:\n",
    "``` \n",
    "S = sorted(S) in descending order\n",
    "subset = []\n",
    "while len(S)>0:\n",
    "for i in [0, 1, ..., len(S)]:\n",
    "    if S[i]<=T:\n",
    "        add S[i] in subset\n",
    "    else:\n",
    "        i+=1\n",
    "if sum(subset)!=T:\n",
    "    drop first element from S\n",
    "    repeat the for loop\n",
    "```"
   ],
   "cell_type": "markdown",
   "metadata": {}
  },
  {
   "cell_type": "code",
   "execution_count": 3,
   "metadata": {},
   "outputs": [],
   "source": [
    "\n",
    "def subset_has_sum(full_list, target, subset=[], i=0):\n",
    "    if target==0:\n",
    "        return subset\n",
    "    if target<0:\n",
    "        return []\n",
    "    \n",
    "    if i < len(full_list):\n",
    "        if full_list[i] <=target:\n",
    "            subset.append(full_list[i])\n",
    "            target = target - full_list[i]\n",
    "            i+=1\n",
    "        else:\n",
    "            i+=1\n",
    "        return subset_has_sum(full_list, target, subset=subset, i=i)\n",
    "    else:\n",
    "        return []\n",
    "\n",
    "def set_has_sum(full_set, target, subset=[]):\n",
    "    if target > sum(full_set):\n",
    "        return []\n",
    "    full_set = sorted(list(full_set), reverse=True)\n",
    "    if len(full_set) == 0:\n",
    "        return []\n",
    "    if len(full_set) == 1:\n",
    "        if target == full_set[0]:\n",
    "            return full_set\n",
    "        else:\n",
    "            return []\n",
    "    \n",
    "    subset = subset_has_sum(full_set, target, subset)\n",
    "    if subset == []: \n",
    "        full_set = full_set[1:]\n",
    "        return set_has_sum(full_set, target, subset)\n",
    "\n",
    "    return subset"
   ]
  },
  {
   "cell_type": "code",
   "execution_count": 10,
   "metadata": {},
   "outputs": [
    {
     "output_type": "execute_result",
     "data": {
      "text/plain": [
       "[]"
      ]
     },
     "metadata": {},
     "execution_count": 10
    }
   ],
   "source": [
    "set_has_sum([1,2,5,9,10], 23, subset=[])"
   ]
  },
  {
   "cell_type": "code",
   "execution_count": 11,
   "metadata": {},
   "outputs": [
    {
     "output_type": "execute_result",
     "data": {
      "text/plain": [
       "[10, 9, 2, 1]"
      ]
     },
     "metadata": {},
     "execution_count": 11
    }
   ],
   "source": [
    "set_has_sum([1,2,5,9,10], 22, subset=[])"
   ]
  },
  {
   "cell_type": "code",
   "execution_count": null,
   "metadata": {},
   "outputs": [],
   "source": []
  }
 ]
}